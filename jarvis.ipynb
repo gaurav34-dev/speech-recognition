{
 "cells": [
  {
   "cell_type": "code",
   "execution_count": 25,
   "metadata": {},
   "outputs": [],
   "source": [
    "import pyttsx3\n",
    "import datetime"
   ]
  },
  {
   "cell_type": "code",
   "execution_count": 26,
   "metadata": {},
   "outputs": [],
   "source": [
    "engine=pyttsx3.init()                                       \n",
    "engine.say(\"This is Jarvis\")                              #TEXT TO SPEECH\n",
    "engine.runAndWait()"
   ]
  },
  {
   "cell_type": "code",
   "execution_count": 27,
   "metadata": {},
   "outputs": [],
   "source": [
    "def speak(audio):\n",
    "    engine.say(audio)\n",
    "    engine.runAndWait()\n",
    "                                                           #SPEECH TO TEXT\n",
    "speak(\"this is jarvis ai assistant\")\n",
    "    "
   ]
  },
  {
   "cell_type": "code",
   "execution_count": 28,
   "metadata": {},
   "outputs": [],
   "source": [
    "def time():\n",
    "    Time=datetime.datetime.now().strftime(\"%I:%M:%S\")\n",
    "    speak(\"current time is\")\n",
    "    speak(Time)\n",
    "                                                               #time teller\n",
    "time()"
   ]
  },
  {
   "cell_type": "code",
   "execution_count": 29,
   "metadata": {},
   "outputs": [],
   "source": [
    "def date():\n",
    "    year=int(datetime.datetime.now().year)\n",
    "    month=int(datetime.datetime.now().month)\n",
    "    date=int(datetime.datetime.now().day)\n",
    "    speak(\"date is\")\n",
    "    speak(date)\n",
    "    speak(month)                                                #date teller\n",
    "    speak(year)\n",
    "    \n",
    "date()"
   ]
  },
  {
   "cell_type": "code",
   "execution_count": null,
   "metadata": {},
   "outputs": [],
   "source": []
  }
 ],
 "metadata": {
  "kernelspec": {
   "display_name": "Python 3",
   "language": "python",
   "name": "python3"
  },
  "language_info": {
   "codemirror_mode": {
    "name": "ipython",
    "version": 3
   },
   "file_extension": ".py",
   "mimetype": "text/x-python",
   "name": "python",
   "nbconvert_exporter": "python",
   "pygments_lexer": "ipython3",
   "version": "3.8.3"
  }
 },
 "nbformat": 4,
 "nbformat_minor": 4
}
